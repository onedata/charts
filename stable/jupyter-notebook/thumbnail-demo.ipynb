{
 "cells": [
  {
   "cell_type": "code",
   "execution_count": null,
   "metadata": {},
   "outputs": [],
   "source": [
    "# This cell downloads a dataset needed for a demo to a local filesystem and used onedata-fs to copy it onto a space.\n",
    "# This cell should be run once before a demo as a data preparation job.\n",
    "import sys, os, fs, subprocess\n",
    "from fs_onedatafs import OnedataFS\n",
    "from fs.copy import copy_fs\n",
    "from fs.osfs import OSFS\n",
    "\n",
    "# Setup onedata-fs\n",
    "sys.path.append('/opt/oneclient/lib')\n",
    "os.listdir(\"/\")\n",
    "\n",
    "# Get data from my dropbox account\n",
    "subprocess.call(['wget', '-O', 'data.tgz', 'https://www.dropbox.com/s/2toa3ymec6alrr8/oxford-flower-dataset.tgz?dl=1'])\n",
    "os.listdir(\".\")\n",
    "subprocess.call(['tar', 'zxvf', 'data.tgz'])\n",
    "os.listdir(\".\")\n",
    "dataset=\"oxford-flower-dataset\"\n",
    "os.listdir(dataset)\n",
    "\n",
    "# Get configuration from the environment\n",
    "spaceName=os.environ['SPACE_NAME']\n",
    "token=os.environ['ONECLIENT_ACCESS_TOKEN']\n",
    "provider=os.environ['ONECLIENT_PROVIDER_HOST']\n",
    "insecure=os.environ['ONECLIENT_INSECURE']\n",
    "\n",
    "# Connect to Oneprovider\n",
    "odfs = OnedataFS(provider, token, insecure=True, force_proxy_io=True)\n",
    "space = odfs.opendir('/{}'.format(spaceName))\n",
    "\n",
    "# Copy data to a space\n",
    "current_directory_fs = OSFS(\"./oxford-flower-dataset\")\n",
    "root_target_dir = space.makedir('oxford-flower-dataset')\n",
    "copy_fs(current_directory_fs, root_target_dir)\n",
    "root_target_dir.listdir('.')"
   ]
  },
  {
   "cell_type": "code",
   "execution_count": null,
   "metadata": {},
   "outputs": [],
   "source": [
    "# Initialize OnedataFS plugin \n",
    "import sys\n",
    "import matplotlib.pyplot as plt\n",
    "from PIL import Image\n",
    "import io\n",
    "import os\n",
    "sys.path.append('/opt/oneclient/lib')\n",
    "from fs_onedatafs import OnedataFS"
   ]
  },
  {
   "cell_type": "code",
   "execution_count": null,
   "metadata": {},
   "outputs": [],
   "source": [
    "# Get configuration from the environment\n",
    "spaceName=os.environ['SPACE_NAME']\n",
    "token=os.environ['ONECLIENT_ACCESS_TOKEN']\n",
    "provider=os.environ['ONECLIENT_PROVIDER_HOST']\n",
    "insecure=os.environ['ONECLIENT_INSECURE']\n",
    "\n",
    "print(\"Space name: {}\".format(space))\n",
    "print(\"Authentication token: {}\".format(token))\n",
    "print(\"Oneprovider address: {}\".format(provider))"
   ]
  },
  {
   "cell_type": "code",
   "execution_count": null,
   "metadata": {},
   "outputs": [],
   "source": [
    "# Connect to Oneprovider\n",
    "odfs = OnedataFS(provider, token, insecure=True, force_proxy_io=True)"
   ]
  },
  {
   "cell_type": "code",
   "execution_count": null,
   "metadata": {},
   "outputs": [],
   "source": [
    "# Open selected space DemoWeek and list its contents\n",
    "space = odfs.opendir('/{}'.format(spaceName))\n",
    "space.listdir('/')"
   ]
  },
  {
   "cell_type": "code",
   "execution_count": null,
   "metadata": {},
   "outputs": [],
   "source": [
    "# Open and display single image\n",
    "i000 = space.opendir('oxford-flower-dataset/')\n",
    "i1 = i000.openbin('image_0001.jpg', 'r')"
   ]
  },
  {
   "cell_type": "code",
   "execution_count": null,
   "metadata": {},
   "outputs": [],
   "source": [
    "# Show file blocks at Oneprovider (should be empty - not replicated yet)\n",
    "space.location('oxford-flower-dataset/image_0001.jpg') "
   ]
  },
  {
   "cell_type": "code",
   "execution_count": null,
   "metadata": {},
   "outputs": [],
   "source": [
    "# Create instance of Pillow Image from image bytes\n",
    "im1 = Image.open(i1)\n",
    "plt.imshow(im1) "
   ]
  },
  {
   "cell_type": "code",
   "execution_count": null,
   "metadata": {},
   "outputs": [],
   "source": [
    "# Show file blocks (should be completely replicated)\n",
    "space.location('oxford-flower-dataset/image_0001.jpg')"
   ]
  },
  {
   "cell_type": "code",
   "execution_count": null,
   "metadata": {},
   "outputs": [],
   "source": [
    "# Close the image file\n",
    "i1.close() "
   ]
  },
  {
   "cell_type": "code",
   "execution_count": null,
   "metadata": {},
   "outputs": [],
   "source": [
    "# Generate list of a subset of images paths\n",
    "image_paths = [img.path for img in space.glob(\"**/oxford-flower-dataset/*.jpg\")]\n",
    "image_paths"
   ]
  },
  {
   "cell_type": "code",
   "execution_count": null,
   "metadata": {},
   "outputs": [],
   "source": [
    "# Open selected images as Pillow Image objects \n",
    "images = [Image.open(space.openbin(path)) for path in image_paths]\n",
    "images[0]\n",
    "len(images)"
   ]
  },
  {
   "cell_type": "code",
   "execution_count": null,
   "metadata": {},
   "outputs": [],
   "source": [
    "# Create target thumbnail composite image\n",
    "result_size = 1000\n",
    "result = Image.new(\"RGB\", (result_size, result_size))"
   ]
  },
  {
   "cell_type": "code",
   "execution_count": null,
   "metadata": {},
   "outputs": [],
   "source": [
    "# Paste thumbnails of images into target image\n",
    "i = 0\n",
    "j = 0\n",
    "for img in images: \n",
    "    img.thumbnail((100, 100), Image.ANTIALIAS)\n",
    "    w, h = img.size\n",
    "    print('Adding thumbnail at {0},{1}'.format(i, j, w, h))\n",
    "    result.paste(img, (i, j, i + w, j + h))\n",
    "    i += 100\n",
    "    if i >= result_size:\n",
    "        i = 0\n",
    "        j += 100"
   ]
  },
  {
   "cell_type": "code",
   "execution_count": null,
   "metadata": {},
   "outputs": [],
   "source": [
    "# Show thumbnail image\n",
    "plt.imshow(result)"
   ]
  },
  {
   "cell_type": "code",
   "execution_count": null,
   "metadata": {},
   "outputs": [],
   "source": [
    "# Close source images\n",
    "[img.close() for img in images]"
   ]
  },
  {
   "cell_type": "code",
   "execution_count": null,
   "metadata": {},
   "outputs": [],
   "source": [
    "# Write result to file in DemoWeek space\n",
    "space.create(\"thumbnails.png\")\n",
    "fresult = space.openbin(\"thumbnails.png\", \"rw+\")\n",
    "result_bytes = io.BytesIO()\n",
    "result.save(result_bytes, format='PNG')\n",
    "fresult.write(result_bytes.getvalue())\n",
    "fresult.close()"
   ]
  }
 ],
 "metadata": {
  "kernelspec": {
   "display_name": "Python 3",
   "language": "python",
   "name": "python3"
  },
  "language_info": {
   "codemirror_mode": {
    "name": "ipython",
    "version": 3
   },
   "file_extension": ".py",
   "mimetype": "text/x-python",
   "name": "python",
   "nbconvert_exporter": "python",
   "pygments_lexer": "ipython3",
   "version": "3.6.7"
  }
 },
 "nbformat": 4,
 "nbformat_minor": 2
}
